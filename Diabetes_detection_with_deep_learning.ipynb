{
  "nbformat": 4,
  "nbformat_minor": 0,
  "metadata": {
    "colab": {
      "name": "Diabetes detection with deep learning.ipynb",
      "provenance": [],
      "collapsed_sections": [],
      "authorship_tag": "ABX9TyOOLqoQdq1wsrgRt8Tkd4BM",
      "include_colab_link": true
    },
    "kernelspec": {
      "name": "python3",
      "display_name": "Python 3"
    },
    "language_info": {
      "name": "python"
    }
  },
  "cells": [
    {
      "cell_type": "markdown",
      "metadata": {
        "id": "view-in-github",
        "colab_type": "text"
      },
      "source": [
        "<a href=\"https://colab.research.google.com/github/bishalkharel/Diabetes-detection-using-deeplearning/blob/master/Diabetes_detection_with_deep_learning.ipynb\" target=\"_parent\"><img src=\"https://colab.research.google.com/assets/colab-badge.svg\" alt=\"Open In Colab\"/></a>"
      ]
    },
    {
      "cell_type": "code",
      "execution_count": null,
      "metadata": {
        "id": "7Za6LlydwtMP"
      },
      "outputs": [],
      "source": [
        "from numpy import loadtxt\n",
        "from keras.models import Sequential\n",
        "from keras.layers import Dense\n",
        "from keras.utils import np_utils\n",
        "import pandas as pd\n",
        "import numpy as np\n",
        "import matplotlib.pyplot as plt\n",
        "from sklearn.preprocessing import scale\n",
        "from sklearn.metrics import accuracy_score\n",
        "from sklearn.model_selection import train_test_split"
      ]
    },
    {
      "cell_type": "code",
      "source": [
        "df = pd.read_csv('https://nrvis.com/./data/mldata/pima-indians-diabetes.csv', header=None)\n",
        "df.head()"
      ],
      "metadata": {
        "colab": {
          "base_uri": "https://localhost:8080/",
          "height": 206
        },
        "id": "po9XX5s-wzsC",
        "outputId": "8e2a74e3-1348-4415-a350-5b8493502008"
      },
      "execution_count": null,
      "outputs": [
        {
          "output_type": "execute_result",
          "data": {
            "text/html": [
              "\n",
              "  <div id=\"df-4d9323be-e46c-4b30-8b93-61222144b6cf\">\n",
              "    <div class=\"colab-df-container\">\n",
              "      <div>\n",
              "<style scoped>\n",
              "    .dataframe tbody tr th:only-of-type {\n",
              "        vertical-align: middle;\n",
              "    }\n",
              "\n",
              "    .dataframe tbody tr th {\n",
              "        vertical-align: top;\n",
              "    }\n",
              "\n",
              "    .dataframe thead th {\n",
              "        text-align: right;\n",
              "    }\n",
              "</style>\n",
              "<table border=\"1\" class=\"dataframe\">\n",
              "  <thead>\n",
              "    <tr style=\"text-align: right;\">\n",
              "      <th></th>\n",
              "      <th>0</th>\n",
              "      <th>1</th>\n",
              "      <th>2</th>\n",
              "      <th>3</th>\n",
              "      <th>4</th>\n",
              "      <th>5</th>\n",
              "      <th>6</th>\n",
              "      <th>7</th>\n",
              "      <th>8</th>\n",
              "    </tr>\n",
              "  </thead>\n",
              "  <tbody>\n",
              "    <tr>\n",
              "      <th>0</th>\n",
              "      <td>6</td>\n",
              "      <td>148</td>\n",
              "      <td>72</td>\n",
              "      <td>35</td>\n",
              "      <td>0</td>\n",
              "      <td>33.6</td>\n",
              "      <td>0.627</td>\n",
              "      <td>50</td>\n",
              "      <td>1</td>\n",
              "    </tr>\n",
              "    <tr>\n",
              "      <th>1</th>\n",
              "      <td>1</td>\n",
              "      <td>85</td>\n",
              "      <td>66</td>\n",
              "      <td>29</td>\n",
              "      <td>0</td>\n",
              "      <td>26.6</td>\n",
              "      <td>0.351</td>\n",
              "      <td>31</td>\n",
              "      <td>0</td>\n",
              "    </tr>\n",
              "    <tr>\n",
              "      <th>2</th>\n",
              "      <td>8</td>\n",
              "      <td>183</td>\n",
              "      <td>64</td>\n",
              "      <td>0</td>\n",
              "      <td>0</td>\n",
              "      <td>23.3</td>\n",
              "      <td>0.672</td>\n",
              "      <td>32</td>\n",
              "      <td>1</td>\n",
              "    </tr>\n",
              "    <tr>\n",
              "      <th>3</th>\n",
              "      <td>1</td>\n",
              "      <td>89</td>\n",
              "      <td>66</td>\n",
              "      <td>23</td>\n",
              "      <td>94</td>\n",
              "      <td>28.1</td>\n",
              "      <td>0.167</td>\n",
              "      <td>21</td>\n",
              "      <td>0</td>\n",
              "    </tr>\n",
              "    <tr>\n",
              "      <th>4</th>\n",
              "      <td>0</td>\n",
              "      <td>137</td>\n",
              "      <td>40</td>\n",
              "      <td>35</td>\n",
              "      <td>168</td>\n",
              "      <td>43.1</td>\n",
              "      <td>2.288</td>\n",
              "      <td>33</td>\n",
              "      <td>1</td>\n",
              "    </tr>\n",
              "  </tbody>\n",
              "</table>\n",
              "</div>\n",
              "      <button class=\"colab-df-convert\" onclick=\"convertToInteractive('df-4d9323be-e46c-4b30-8b93-61222144b6cf')\"\n",
              "              title=\"Convert this dataframe to an interactive table.\"\n",
              "              style=\"display:none;\">\n",
              "        \n",
              "  <svg xmlns=\"http://www.w3.org/2000/svg\" height=\"24px\"viewBox=\"0 0 24 24\"\n",
              "       width=\"24px\">\n",
              "    <path d=\"M0 0h24v24H0V0z\" fill=\"none\"/>\n",
              "    <path d=\"M18.56 5.44l.94 2.06.94-2.06 2.06-.94-2.06-.94-.94-2.06-.94 2.06-2.06.94zm-11 1L8.5 8.5l.94-2.06 2.06-.94-2.06-.94L8.5 2.5l-.94 2.06-2.06.94zm10 10l.94 2.06.94-2.06 2.06-.94-2.06-.94-.94-2.06-.94 2.06-2.06.94z\"/><path d=\"M17.41 7.96l-1.37-1.37c-.4-.4-.92-.59-1.43-.59-.52 0-1.04.2-1.43.59L10.3 9.45l-7.72 7.72c-.78.78-.78 2.05 0 2.83L4 21.41c.39.39.9.59 1.41.59.51 0 1.02-.2 1.41-.59l7.78-7.78 2.81-2.81c.8-.78.8-2.07 0-2.86zM5.41 20L4 18.59l7.72-7.72 1.47 1.35L5.41 20z\"/>\n",
              "  </svg>\n",
              "      </button>\n",
              "      \n",
              "  <style>\n",
              "    .colab-df-container {\n",
              "      display:flex;\n",
              "      flex-wrap:wrap;\n",
              "      gap: 12px;\n",
              "    }\n",
              "\n",
              "    .colab-df-convert {\n",
              "      background-color: #E8F0FE;\n",
              "      border: none;\n",
              "      border-radius: 50%;\n",
              "      cursor: pointer;\n",
              "      display: none;\n",
              "      fill: #1967D2;\n",
              "      height: 32px;\n",
              "      padding: 0 0 0 0;\n",
              "      width: 32px;\n",
              "    }\n",
              "\n",
              "    .colab-df-convert:hover {\n",
              "      background-color: #E2EBFA;\n",
              "      box-shadow: 0px 1px 2px rgba(60, 64, 67, 0.3), 0px 1px 3px 1px rgba(60, 64, 67, 0.15);\n",
              "      fill: #174EA6;\n",
              "    }\n",
              "\n",
              "    [theme=dark] .colab-df-convert {\n",
              "      background-color: #3B4455;\n",
              "      fill: #D2E3FC;\n",
              "    }\n",
              "\n",
              "    [theme=dark] .colab-df-convert:hover {\n",
              "      background-color: #434B5C;\n",
              "      box-shadow: 0px 1px 3px 1px rgba(0, 0, 0, 0.15);\n",
              "      filter: drop-shadow(0px 1px 2px rgba(0, 0, 0, 0.3));\n",
              "      fill: #FFFFFF;\n",
              "    }\n",
              "  </style>\n",
              "\n",
              "      <script>\n",
              "        const buttonEl =\n",
              "          document.querySelector('#df-4d9323be-e46c-4b30-8b93-61222144b6cf button.colab-df-convert');\n",
              "        buttonEl.style.display =\n",
              "          google.colab.kernel.accessAllowed ? 'block' : 'none';\n",
              "\n",
              "        async function convertToInteractive(key) {\n",
              "          const element = document.querySelector('#df-4d9323be-e46c-4b30-8b93-61222144b6cf');\n",
              "          const dataTable =\n",
              "            await google.colab.kernel.invokeFunction('convertToInteractive',\n",
              "                                                     [key], {});\n",
              "          if (!dataTable) return;\n",
              "\n",
              "          const docLinkHtml = 'Like what you see? Visit the ' +\n",
              "            '<a target=\"_blank\" href=https://colab.research.google.com/notebooks/data_table.ipynb>data table notebook</a>'\n",
              "            + ' to learn more about interactive tables.';\n",
              "          element.innerHTML = '';\n",
              "          dataTable['output_type'] = 'display_data';\n",
              "          await google.colab.output.renderOutput(dataTable, element);\n",
              "          const docLink = document.createElement('div');\n",
              "          docLink.innerHTML = docLinkHtml;\n",
              "          element.appendChild(docLink);\n",
              "        }\n",
              "      </script>\n",
              "    </div>\n",
              "  </div>\n",
              "  "
            ],
            "text/plain": [
              "   0    1   2   3    4     5      6   7  8\n",
              "0  6  148  72  35    0  33.6  0.627  50  1\n",
              "1  1   85  66  29    0  26.6  0.351  31  0\n",
              "2  8  183  64   0    0  23.3  0.672  32  1\n",
              "3  1   89  66  23   94  28.1  0.167  21  0\n",
              "4  0  137  40  35  168  43.1  2.288  33  1"
            ]
          },
          "metadata": {},
          "execution_count": 3
        }
      ]
    },
    {
      "cell_type": "markdown",
      "source": [
        "\n",
        "\n",
        "All of the input variables that describe each patient are numerical.\n",
        "\n",
        "Hence, load the file as a matrix of numbers using the NumPy function loadtxt().\n",
        "\n",
        "There are eight input variables and one output variable (the last column). We will be learning a model to map rows of input variables (X) to an output variable (y), which we often summarize as y = f(X)\n",
        "\n",
        "The variables can be summarized as follows:\n",
        "\n",
        "Input Variables (X):\n",
        "\n",
        "    Number of times pregnant\n",
        "    Plasma glucose concentration a 2 hours in an oral glucose tolerance test\n",
        "    Diastolic blood pressure (mm Hg)\n",
        "    Triceps skin fold thickness (mm)\n",
        "    2-Hour serum insulin (mu U/ml)\n",
        "    Body mass index (weight in kg/(height in m)^2)\n",
        "    Diabetes pedigree function\n",
        "    Age (years)\n",
        "\n",
        "Output Variables (y):\n",
        "\n",
        "    Class variable (0 or 1)\n",
        "\n"
      ],
      "metadata": {
        "id": "Z3KX-Qx7ybvf"
      }
    },
    {
      "cell_type": "code",
      "source": [
        "df.columns = ['Pregnancies', 'Glucose', 'BloodPressure', 'SkinThickness', 'Insulin',  \n",
        "         'BMI', 'DiabetesPedigreeFunction', 'Age', 'Class']\n",
        "df.head()"
      ],
      "metadata": {
        "colab": {
          "base_uri": "https://localhost:8080/",
          "height": 206
        },
        "id": "Pr-XVpAKxs8i",
        "outputId": "53cc3620-7b5a-4922-c38a-d5f867dae055"
      },
      "execution_count": null,
      "outputs": [
        {
          "output_type": "execute_result",
          "data": {
            "text/html": [
              "\n",
              "  <div id=\"df-36476749-cb5b-46d8-ae43-71a0f4c6ee91\">\n",
              "    <div class=\"colab-df-container\">\n",
              "      <div>\n",
              "<style scoped>\n",
              "    .dataframe tbody tr th:only-of-type {\n",
              "        vertical-align: middle;\n",
              "    }\n",
              "\n",
              "    .dataframe tbody tr th {\n",
              "        vertical-align: top;\n",
              "    }\n",
              "\n",
              "    .dataframe thead th {\n",
              "        text-align: right;\n",
              "    }\n",
              "</style>\n",
              "<table border=\"1\" class=\"dataframe\">\n",
              "  <thead>\n",
              "    <tr style=\"text-align: right;\">\n",
              "      <th></th>\n",
              "      <th>Pregnancies</th>\n",
              "      <th>Glucose</th>\n",
              "      <th>BloodPressure</th>\n",
              "      <th>SkinThickness</th>\n",
              "      <th>Insulin</th>\n",
              "      <th>BMI</th>\n",
              "      <th>DiabetesPedigreeFunction</th>\n",
              "      <th>Age</th>\n",
              "      <th>Class</th>\n",
              "    </tr>\n",
              "  </thead>\n",
              "  <tbody>\n",
              "    <tr>\n",
              "      <th>0</th>\n",
              "      <td>6</td>\n",
              "      <td>148</td>\n",
              "      <td>72</td>\n",
              "      <td>35</td>\n",
              "      <td>0</td>\n",
              "      <td>33.6</td>\n",
              "      <td>0.627</td>\n",
              "      <td>50</td>\n",
              "      <td>1</td>\n",
              "    </tr>\n",
              "    <tr>\n",
              "      <th>1</th>\n",
              "      <td>1</td>\n",
              "      <td>85</td>\n",
              "      <td>66</td>\n",
              "      <td>29</td>\n",
              "      <td>0</td>\n",
              "      <td>26.6</td>\n",
              "      <td>0.351</td>\n",
              "      <td>31</td>\n",
              "      <td>0</td>\n",
              "    </tr>\n",
              "    <tr>\n",
              "      <th>2</th>\n",
              "      <td>8</td>\n",
              "      <td>183</td>\n",
              "      <td>64</td>\n",
              "      <td>0</td>\n",
              "      <td>0</td>\n",
              "      <td>23.3</td>\n",
              "      <td>0.672</td>\n",
              "      <td>32</td>\n",
              "      <td>1</td>\n",
              "    </tr>\n",
              "    <tr>\n",
              "      <th>3</th>\n",
              "      <td>1</td>\n",
              "      <td>89</td>\n",
              "      <td>66</td>\n",
              "      <td>23</td>\n",
              "      <td>94</td>\n",
              "      <td>28.1</td>\n",
              "      <td>0.167</td>\n",
              "      <td>21</td>\n",
              "      <td>0</td>\n",
              "    </tr>\n",
              "    <tr>\n",
              "      <th>4</th>\n",
              "      <td>0</td>\n",
              "      <td>137</td>\n",
              "      <td>40</td>\n",
              "      <td>35</td>\n",
              "      <td>168</td>\n",
              "      <td>43.1</td>\n",
              "      <td>2.288</td>\n",
              "      <td>33</td>\n",
              "      <td>1</td>\n",
              "    </tr>\n",
              "  </tbody>\n",
              "</table>\n",
              "</div>\n",
              "      <button class=\"colab-df-convert\" onclick=\"convertToInteractive('df-36476749-cb5b-46d8-ae43-71a0f4c6ee91')\"\n",
              "              title=\"Convert this dataframe to an interactive table.\"\n",
              "              style=\"display:none;\">\n",
              "        \n",
              "  <svg xmlns=\"http://www.w3.org/2000/svg\" height=\"24px\"viewBox=\"0 0 24 24\"\n",
              "       width=\"24px\">\n",
              "    <path d=\"M0 0h24v24H0V0z\" fill=\"none\"/>\n",
              "    <path d=\"M18.56 5.44l.94 2.06.94-2.06 2.06-.94-2.06-.94-.94-2.06-.94 2.06-2.06.94zm-11 1L8.5 8.5l.94-2.06 2.06-.94-2.06-.94L8.5 2.5l-.94 2.06-2.06.94zm10 10l.94 2.06.94-2.06 2.06-.94-2.06-.94-.94-2.06-.94 2.06-2.06.94z\"/><path d=\"M17.41 7.96l-1.37-1.37c-.4-.4-.92-.59-1.43-.59-.52 0-1.04.2-1.43.59L10.3 9.45l-7.72 7.72c-.78.78-.78 2.05 0 2.83L4 21.41c.39.39.9.59 1.41.59.51 0 1.02-.2 1.41-.59l7.78-7.78 2.81-2.81c.8-.78.8-2.07 0-2.86zM5.41 20L4 18.59l7.72-7.72 1.47 1.35L5.41 20z\"/>\n",
              "  </svg>\n",
              "      </button>\n",
              "      \n",
              "  <style>\n",
              "    .colab-df-container {\n",
              "      display:flex;\n",
              "      flex-wrap:wrap;\n",
              "      gap: 12px;\n",
              "    }\n",
              "\n",
              "    .colab-df-convert {\n",
              "      background-color: #E8F0FE;\n",
              "      border: none;\n",
              "      border-radius: 50%;\n",
              "      cursor: pointer;\n",
              "      display: none;\n",
              "      fill: #1967D2;\n",
              "      height: 32px;\n",
              "      padding: 0 0 0 0;\n",
              "      width: 32px;\n",
              "    }\n",
              "\n",
              "    .colab-df-convert:hover {\n",
              "      background-color: #E2EBFA;\n",
              "      box-shadow: 0px 1px 2px rgba(60, 64, 67, 0.3), 0px 1px 3px 1px rgba(60, 64, 67, 0.15);\n",
              "      fill: #174EA6;\n",
              "    }\n",
              "\n",
              "    [theme=dark] .colab-df-convert {\n",
              "      background-color: #3B4455;\n",
              "      fill: #D2E3FC;\n",
              "    }\n",
              "\n",
              "    [theme=dark] .colab-df-convert:hover {\n",
              "      background-color: #434B5C;\n",
              "      box-shadow: 0px 1px 3px 1px rgba(0, 0, 0, 0.15);\n",
              "      filter: drop-shadow(0px 1px 2px rgba(0, 0, 0, 0.3));\n",
              "      fill: #FFFFFF;\n",
              "    }\n",
              "  </style>\n",
              "\n",
              "      <script>\n",
              "        const buttonEl =\n",
              "          document.querySelector('#df-36476749-cb5b-46d8-ae43-71a0f4c6ee91 button.colab-df-convert');\n",
              "        buttonEl.style.display =\n",
              "          google.colab.kernel.accessAllowed ? 'block' : 'none';\n",
              "\n",
              "        async function convertToInteractive(key) {\n",
              "          const element = document.querySelector('#df-36476749-cb5b-46d8-ae43-71a0f4c6ee91');\n",
              "          const dataTable =\n",
              "            await google.colab.kernel.invokeFunction('convertToInteractive',\n",
              "                                                     [key], {});\n",
              "          if (!dataTable) return;\n",
              "\n",
              "          const docLinkHtml = 'Like what you see? Visit the ' +\n",
              "            '<a target=\"_blank\" href=https://colab.research.google.com/notebooks/data_table.ipynb>data table notebook</a>'\n",
              "            + ' to learn more about interactive tables.';\n",
              "          element.innerHTML = '';\n",
              "          dataTable['output_type'] = 'display_data';\n",
              "          await google.colab.output.renderOutput(dataTable, element);\n",
              "          const docLink = document.createElement('div');\n",
              "          docLink.innerHTML = docLinkHtml;\n",
              "          element.appendChild(docLink);\n",
              "        }\n",
              "      </script>\n",
              "    </div>\n",
              "  </div>\n",
              "  "
            ],
            "text/plain": [
              "   Pregnancies  Glucose  BloodPressure  ...  DiabetesPedigreeFunction  Age  Class\n",
              "0            6      148             72  ...                     0.627   50      1\n",
              "1            1       85             66  ...                     0.351   31      0\n",
              "2            8      183             64  ...                     0.672   32      1\n",
              "3            1       89             66  ...                     0.167   21      0\n",
              "4            0      137             40  ...                     2.288   33      1\n",
              "\n",
              "[5 rows x 9 columns]"
            ]
          },
          "metadata": {},
          "execution_count": 4
        }
      ]
    },
    {
      "cell_type": "markdown",
      "source": [
        "\n",
        "Method 2 to load data\n"
      ],
      "metadata": {
        "id": "VzwhkhKoyuVP"
      }
    },
    {
      "cell_type": "code",
      "source": [
        "# load the dataset\n",
        "dataset = loadtxt('https://nrvis.com/./data/mldata/pima-indians-diabetes.csv', delimiter=',')\n"
      ],
      "metadata": {
        "id": "yZjIkutZy0KK"
      },
      "execution_count": null,
      "outputs": []
    },
    {
      "cell_type": "code",
      "source": [
        "dataset"
      ],
      "metadata": {
        "colab": {
          "base_uri": "https://localhost:8080/"
        },
        "id": "mGTwDcmWy-zq",
        "outputId": "dd1603c1-261f-4360-89f6-77d236032154"
      },
      "execution_count": null,
      "outputs": [
        {
          "output_type": "execute_result",
          "data": {
            "text/plain": [
              "array([[  6.   , 148.   ,  72.   , ...,   0.627,  50.   ,   1.   ],\n",
              "       [  1.   ,  85.   ,  66.   , ...,   0.351,  31.   ,   0.   ],\n",
              "       [  8.   , 183.   ,  64.   , ...,   0.672,  32.   ,   1.   ],\n",
              "       ...,\n",
              "       [  5.   , 121.   ,  72.   , ...,   0.245,  30.   ,   0.   ],\n",
              "       [  1.   , 126.   ,  60.   , ...,   0.349,  47.   ,   1.   ],\n",
              "       [  1.   ,  93.   ,  70.   , ...,   0.315,  23.   ,   0.   ]])"
            ]
          },
          "metadata": {},
          "execution_count": 9
        }
      ]
    },
    {
      "cell_type": "code",
      "source": [
        "\n",
        "\n",
        "# split into input (X) and output (y) variables\n",
        "X = dataset[:,0:8]\n",
        "y = dataset[:,8]\n",
        "\n"
      ],
      "metadata": {
        "id": "X-rATiT6zFQB"
      },
      "execution_count": null,
      "outputs": []
    },
    {
      "cell_type": "code",
      "source": [
        "\n",
        "\n",
        "X_scaled = scale(X) \n",
        "print('Scaled_X:\\n', X_scaled)\n",
        "\n"
      ],
      "metadata": {
        "colab": {
          "base_uri": "https://localhost:8080/"
        },
        "id": "iLaZelO7zIfI",
        "outputId": "0fa54d84-0ba6-4552-be64-ed7ea93b6341"
      },
      "execution_count": null,
      "outputs": [
        {
          "output_type": "stream",
          "name": "stdout",
          "text": [
            "Scaled_X:\n",
            " [[ 0.63994726  0.84832379  0.14964075 ...  0.20401277  0.46849198\n",
            "   1.4259954 ]\n",
            " [-0.84488505 -1.12339636 -0.16054575 ... -0.68442195 -0.36506078\n",
            "  -0.19067191]\n",
            " [ 1.23388019  1.94372388 -0.26394125 ... -1.10325546  0.60439732\n",
            "  -0.10558415]\n",
            " ...\n",
            " [ 0.3429808   0.00330087  0.14964075 ... -0.73518964 -0.68519336\n",
            "  -0.27575966]\n",
            " [-0.84488505  0.1597866  -0.47073225 ... -0.24020459 -0.37110101\n",
            "   1.17073215]\n",
            " [-0.84488505 -0.8730192   0.04624525 ... -0.20212881 -0.47378505\n",
            "  -0.87137393]]\n"
          ]
        }
      ]
    },
    {
      "cell_type": "code",
      "source": [
        "# Split dataset into 'train' & 'test' sets\n",
        "X_train, X_test, y_train, y_test = train_test_split(X_scaled, y, test_size=0.33, random_state=42)"
      ],
      "metadata": {
        "id": "mkyiMbIczM02"
      },
      "execution_count": null,
      "outputs": []
    },
    {
      "cell_type": "code",
      "source": [
        "\n",
        "\n",
        "# (optional): one hot encoding??\n",
        "y_train = np_utils.to_categorical(y_train)\n",
        "\n",
        "print('Y_Train Encoded:\\n', y_train)\n",
        "\n"
      ],
      "metadata": {
        "colab": {
          "base_uri": "https://localhost:8080/"
        },
        "id": "sslUi7rZzQx8",
        "outputId": "0439171c-e6d5-4933-a6dc-befc852d7e71"
      },
      "execution_count": null,
      "outputs": [
        {
          "output_type": "stream",
          "name": "stdout",
          "text": [
            "Y_Train Encoded:\n",
            " [[1. 0.]\n",
            " [1. 0.]\n",
            " [1. 0.]\n",
            " ...\n",
            " [0. 1.]\n",
            " [0. 1.]\n",
            " [1. 0.]]\n"
          ]
        }
      ]
    },
    {
      "cell_type": "markdown",
      "source": [
        "\n",
        "2. Define Keras Model\n",
        "\n",
        "The model design:\n",
        "\n",
        "    3 layers.\n",
        "    22 total neurons.\n",
        "    Relu & Sigmoid activation functions.\n",
        "\n"
      ],
      "metadata": {
        "id": "wzv-Rmg0zVzu"
      }
    },
    {
      "cell_type": "code",
      "source": [
        "\n",
        "\n",
        "# define the keras model\n",
        "model = Sequential()\n",
        "model.add(Dense(12, input_dim=8, activation='relu'))\n",
        "model.add(Dense(8, activation='relu'))\n",
        "model.add(Dense(2, activation='sigmoid'))\n",
        "\n"
      ],
      "metadata": {
        "id": "oy8Fg8yqzYNY"
      },
      "execution_count": null,
      "outputs": []
    },
    {
      "cell_type": "markdown",
      "source": [
        "3. Compile Keras Model"
      ],
      "metadata": {
        "id": "yLdxIwBOzftI"
      }
    },
    {
      "cell_type": "code",
      "source": [
        "\n",
        "\n",
        "# compile the keras model\n",
        "model.compile(loss='binary_crossentropy', optimizer='adam', metrics=['accuracy'])\n",
        "\n"
      ],
      "metadata": {
        "id": "At0dBBCbzg4W"
      },
      "execution_count": null,
      "outputs": []
    },
    {
      "cell_type": "code",
      "source": [
        "# fit the keras model on the dataset\n",
        "history = model.fit(X_train, y_train, validation_split=0.33, epochs=150, batch_size=10)\n",
        "# model.fit(X, y, epochs=150, batch_size=10, verbose=0)\n"
      ],
      "metadata": {
        "colab": {
          "base_uri": "https://localhost:8080/"
        },
        "id": "nrHBo5DZzlJj",
        "outputId": "96824f97-03b1-431b-bfee-b4fd44ff5299"
      },
      "execution_count": null,
      "outputs": [
        {
          "output_type": "stream",
          "name": "stdout",
          "text": [
            "Epoch 1/150\n",
            "35/35 [==============================] - 2s 18ms/step - loss: 0.7588 - accuracy: 0.4070 - val_loss: 0.7075 - val_accuracy: 0.5353\n",
            "Epoch 2/150\n",
            "35/35 [==============================] - 0s 4ms/step - loss: 0.7051 - accuracy: 0.5872 - val_loss: 0.6740 - val_accuracy: 0.6941\n",
            "Epoch 3/150\n",
            "35/35 [==============================] - 0s 3ms/step - loss: 0.6678 - accuracy: 0.7180 - val_loss: 0.6482 - val_accuracy: 0.6941\n",
            "Epoch 4/150\n",
            "35/35 [==============================] - 0s 3ms/step - loss: 0.6352 - accuracy: 0.7587 - val_loss: 0.6243 - val_accuracy: 0.7059\n",
            "Epoch 5/150\n",
            "35/35 [==============================] - 0s 3ms/step - loss: 0.6032 - accuracy: 0.7674 - val_loss: 0.6018 - val_accuracy: 0.6882\n",
            "Epoch 6/150\n",
            "35/35 [==============================] - 0s 3ms/step - loss: 0.5731 - accuracy: 0.7674 - val_loss: 0.5794 - val_accuracy: 0.7118\n",
            "Epoch 7/150\n",
            "35/35 [==============================] - 0s 3ms/step - loss: 0.5453 - accuracy: 0.7791 - val_loss: 0.5618 - val_accuracy: 0.7176\n",
            "Epoch 8/150\n",
            "35/35 [==============================] - 0s 3ms/step - loss: 0.5216 - accuracy: 0.7791 - val_loss: 0.5479 - val_accuracy: 0.7235\n",
            "Epoch 9/150\n",
            "35/35 [==============================] - 0s 3ms/step - loss: 0.5041 - accuracy: 0.7849 - val_loss: 0.5382 - val_accuracy: 0.7353\n",
            "Epoch 10/150\n",
            "35/35 [==============================] - 0s 3ms/step - loss: 0.4907 - accuracy: 0.7878 - val_loss: 0.5308 - val_accuracy: 0.7412\n",
            "Epoch 11/150\n",
            "35/35 [==============================] - 0s 3ms/step - loss: 0.4813 - accuracy: 0.7965 - val_loss: 0.5256 - val_accuracy: 0.7353\n",
            "Epoch 12/150\n",
            "35/35 [==============================] - 0s 3ms/step - loss: 0.4731 - accuracy: 0.7994 - val_loss: 0.5215 - val_accuracy: 0.7471\n",
            "Epoch 13/150\n",
            "35/35 [==============================] - 0s 3ms/step - loss: 0.4679 - accuracy: 0.7965 - val_loss: 0.5190 - val_accuracy: 0.7529\n",
            "Epoch 14/150\n",
            "35/35 [==============================] - 0s 3ms/step - loss: 0.4624 - accuracy: 0.7965 - val_loss: 0.5171 - val_accuracy: 0.7529\n",
            "Epoch 15/150\n",
            "35/35 [==============================] - 0s 3ms/step - loss: 0.4577 - accuracy: 0.7965 - val_loss: 0.5140 - val_accuracy: 0.7529\n",
            "Epoch 16/150\n",
            "35/35 [==============================] - 0s 3ms/step - loss: 0.4544 - accuracy: 0.7965 - val_loss: 0.5111 - val_accuracy: 0.7588\n",
            "Epoch 17/150\n",
            "35/35 [==============================] - 0s 3ms/step - loss: 0.4506 - accuracy: 0.7994 - val_loss: 0.5079 - val_accuracy: 0.7529\n",
            "Epoch 18/150\n",
            "35/35 [==============================] - 0s 3ms/step - loss: 0.4488 - accuracy: 0.7994 - val_loss: 0.5079 - val_accuracy: 0.7529\n",
            "Epoch 19/150\n",
            "35/35 [==============================] - 0s 3ms/step - loss: 0.4444 - accuracy: 0.7994 - val_loss: 0.5041 - val_accuracy: 0.7588\n",
            "Epoch 20/150\n",
            "35/35 [==============================] - 0s 3ms/step - loss: 0.4417 - accuracy: 0.7965 - val_loss: 0.5022 - val_accuracy: 0.7588\n",
            "Epoch 21/150\n",
            "35/35 [==============================] - 0s 3ms/step - loss: 0.4390 - accuracy: 0.7994 - val_loss: 0.5007 - val_accuracy: 0.7529\n",
            "Epoch 22/150\n",
            "35/35 [==============================] - 0s 3ms/step - loss: 0.4375 - accuracy: 0.7994 - val_loss: 0.4999 - val_accuracy: 0.7412\n",
            "Epoch 23/150\n",
            "35/35 [==============================] - 0s 3ms/step - loss: 0.4349 - accuracy: 0.8110 - val_loss: 0.4983 - val_accuracy: 0.7588\n",
            "Epoch 24/150\n",
            "35/35 [==============================] - 0s 3ms/step - loss: 0.4328 - accuracy: 0.8110 - val_loss: 0.4971 - val_accuracy: 0.7471\n",
            "Epoch 25/150\n",
            "35/35 [==============================] - 0s 3ms/step - loss: 0.4312 - accuracy: 0.8110 - val_loss: 0.4956 - val_accuracy: 0.7471\n",
            "Epoch 26/150\n",
            "35/35 [==============================] - 0s 3ms/step - loss: 0.4297 - accuracy: 0.8110 - val_loss: 0.4951 - val_accuracy: 0.7471\n",
            "Epoch 27/150\n",
            "35/35 [==============================] - 0s 3ms/step - loss: 0.4276 - accuracy: 0.8081 - val_loss: 0.4948 - val_accuracy: 0.7353\n",
            "Epoch 28/150\n",
            "35/35 [==============================] - 0s 3ms/step - loss: 0.4259 - accuracy: 0.8081 - val_loss: 0.4919 - val_accuracy: 0.7471\n",
            "Epoch 29/150\n",
            "35/35 [==============================] - 0s 3ms/step - loss: 0.4249 - accuracy: 0.8081 - val_loss: 0.4925 - val_accuracy: 0.7353\n",
            "Epoch 30/150\n",
            "35/35 [==============================] - 0s 3ms/step - loss: 0.4223 - accuracy: 0.8052 - val_loss: 0.4913 - val_accuracy: 0.7353\n",
            "Epoch 31/150\n",
            "35/35 [==============================] - 0s 3ms/step - loss: 0.4209 - accuracy: 0.8081 - val_loss: 0.4909 - val_accuracy: 0.7412\n",
            "Epoch 32/150\n",
            "35/35 [==============================] - 0s 3ms/step - loss: 0.4194 - accuracy: 0.8081 - val_loss: 0.4904 - val_accuracy: 0.7412\n",
            "Epoch 33/150\n",
            "35/35 [==============================] - 0s 3ms/step - loss: 0.4188 - accuracy: 0.8023 - val_loss: 0.4874 - val_accuracy: 0.7471\n",
            "Epoch 34/150\n",
            "35/35 [==============================] - 0s 3ms/step - loss: 0.4169 - accuracy: 0.8052 - val_loss: 0.4880 - val_accuracy: 0.7471\n",
            "Epoch 35/150\n",
            "35/35 [==============================] - 0s 3ms/step - loss: 0.4158 - accuracy: 0.8052 - val_loss: 0.4878 - val_accuracy: 0.7471\n",
            "Epoch 36/150\n",
            "35/35 [==============================] - 0s 2ms/step - loss: 0.4153 - accuracy: 0.7994 - val_loss: 0.4879 - val_accuracy: 0.7529\n",
            "Epoch 37/150\n",
            "35/35 [==============================] - 0s 3ms/step - loss: 0.4135 - accuracy: 0.7965 - val_loss: 0.4867 - val_accuracy: 0.7529\n",
            "Epoch 38/150\n",
            "35/35 [==============================] - 0s 3ms/step - loss: 0.4127 - accuracy: 0.7965 - val_loss: 0.4867 - val_accuracy: 0.7529\n",
            "Epoch 39/150\n",
            "35/35 [==============================] - 0s 3ms/step - loss: 0.4108 - accuracy: 0.7994 - val_loss: 0.4863 - val_accuracy: 0.7529\n",
            "Epoch 40/150\n",
            "35/35 [==============================] - 0s 3ms/step - loss: 0.4098 - accuracy: 0.7994 - val_loss: 0.4858 - val_accuracy: 0.7588\n",
            "Epoch 41/150\n",
            "35/35 [==============================] - 0s 3ms/step - loss: 0.4086 - accuracy: 0.7994 - val_loss: 0.4860 - val_accuracy: 0.7588\n",
            "Epoch 42/150\n",
            "35/35 [==============================] - 0s 3ms/step - loss: 0.4074 - accuracy: 0.7907 - val_loss: 0.4861 - val_accuracy: 0.7588\n",
            "Epoch 43/150\n",
            "35/35 [==============================] - 0s 3ms/step - loss: 0.4057 - accuracy: 0.7936 - val_loss: 0.4835 - val_accuracy: 0.7588\n",
            "Epoch 44/150\n",
            "35/35 [==============================] - 0s 3ms/step - loss: 0.4053 - accuracy: 0.7965 - val_loss: 0.4843 - val_accuracy: 0.7529\n",
            "Epoch 45/150\n",
            "35/35 [==============================] - 0s 3ms/step - loss: 0.4040 - accuracy: 0.7965 - val_loss: 0.4844 - val_accuracy: 0.7588\n",
            "Epoch 46/150\n",
            "35/35 [==============================] - 0s 3ms/step - loss: 0.4035 - accuracy: 0.7994 - val_loss: 0.4832 - val_accuracy: 0.7588\n",
            "Epoch 47/150\n",
            "35/35 [==============================] - 0s 3ms/step - loss: 0.4024 - accuracy: 0.8052 - val_loss: 0.4833 - val_accuracy: 0.7588\n",
            "Epoch 48/150\n",
            "35/35 [==============================] - 0s 3ms/step - loss: 0.4008 - accuracy: 0.7994 - val_loss: 0.4830 - val_accuracy: 0.7588\n",
            "Epoch 49/150\n",
            "35/35 [==============================] - 0s 3ms/step - loss: 0.3997 - accuracy: 0.7965 - val_loss: 0.4819 - val_accuracy: 0.7588\n",
            "Epoch 50/150\n",
            "35/35 [==============================] - 0s 3ms/step - loss: 0.3987 - accuracy: 0.8052 - val_loss: 0.4821 - val_accuracy: 0.7588\n",
            "Epoch 51/150\n",
            "35/35 [==============================] - 0s 3ms/step - loss: 0.3973 - accuracy: 0.8052 - val_loss: 0.4812 - val_accuracy: 0.7529\n",
            "Epoch 52/150\n",
            "35/35 [==============================] - 0s 3ms/step - loss: 0.3971 - accuracy: 0.7965 - val_loss: 0.4809 - val_accuracy: 0.7588\n",
            "Epoch 53/150\n",
            "35/35 [==============================] - 0s 3ms/step - loss: 0.3950 - accuracy: 0.8023 - val_loss: 0.4819 - val_accuracy: 0.7529\n",
            "Epoch 54/150\n",
            "35/35 [==============================] - 0s 3ms/step - loss: 0.3943 - accuracy: 0.7994 - val_loss: 0.4817 - val_accuracy: 0.7529\n",
            "Epoch 55/150\n",
            "35/35 [==============================] - 0s 3ms/step - loss: 0.3935 - accuracy: 0.8023 - val_loss: 0.4830 - val_accuracy: 0.7529\n",
            "Epoch 56/150\n",
            "35/35 [==============================] - 0s 3ms/step - loss: 0.3926 - accuracy: 0.7994 - val_loss: 0.4807 - val_accuracy: 0.7529\n",
            "Epoch 57/150\n",
            "35/35 [==============================] - 0s 3ms/step - loss: 0.3914 - accuracy: 0.8081 - val_loss: 0.4811 - val_accuracy: 0.7529\n",
            "Epoch 58/150\n",
            "35/35 [==============================] - 0s 3ms/step - loss: 0.3907 - accuracy: 0.8023 - val_loss: 0.4808 - val_accuracy: 0.7529\n",
            "Epoch 59/150\n",
            "35/35 [==============================] - 0s 3ms/step - loss: 0.3901 - accuracy: 0.8023 - val_loss: 0.4828 - val_accuracy: 0.7529\n",
            "Epoch 60/150\n",
            "35/35 [==============================] - 0s 3ms/step - loss: 0.3886 - accuracy: 0.8023 - val_loss: 0.4807 - val_accuracy: 0.7529\n",
            "Epoch 61/150\n",
            "35/35 [==============================] - 0s 3ms/step - loss: 0.3888 - accuracy: 0.8023 - val_loss: 0.4812 - val_accuracy: 0.7529\n",
            "Epoch 62/150\n",
            "35/35 [==============================] - 0s 3ms/step - loss: 0.3869 - accuracy: 0.8023 - val_loss: 0.4824 - val_accuracy: 0.7529\n",
            "Epoch 63/150\n",
            "35/35 [==============================] - 0s 3ms/step - loss: 0.3858 - accuracy: 0.8052 - val_loss: 0.4816 - val_accuracy: 0.7529\n",
            "Epoch 64/150\n",
            "35/35 [==============================] - 0s 3ms/step - loss: 0.3856 - accuracy: 0.8023 - val_loss: 0.4823 - val_accuracy: 0.7588\n",
            "Epoch 65/150\n",
            "35/35 [==============================] - 0s 3ms/step - loss: 0.3837 - accuracy: 0.8081 - val_loss: 0.4829 - val_accuracy: 0.7588\n",
            "Epoch 66/150\n",
            "35/35 [==============================] - 0s 3ms/step - loss: 0.3828 - accuracy: 0.7994 - val_loss: 0.4829 - val_accuracy: 0.7588\n",
            "Epoch 67/150\n",
            "35/35 [==============================] - 0s 3ms/step - loss: 0.3829 - accuracy: 0.8081 - val_loss: 0.4826 - val_accuracy: 0.7588\n",
            "Epoch 68/150\n",
            "35/35 [==============================] - 0s 3ms/step - loss: 0.3806 - accuracy: 0.7994 - val_loss: 0.4813 - val_accuracy: 0.7588\n",
            "Epoch 69/150\n",
            "35/35 [==============================] - 0s 3ms/step - loss: 0.3800 - accuracy: 0.8110 - val_loss: 0.4819 - val_accuracy: 0.7529\n",
            "Epoch 70/150\n",
            "35/35 [==============================] - 0s 3ms/step - loss: 0.3787 - accuracy: 0.8023 - val_loss: 0.4813 - val_accuracy: 0.7588\n",
            "Epoch 71/150\n",
            "35/35 [==============================] - 0s 3ms/step - loss: 0.3780 - accuracy: 0.8023 - val_loss: 0.4839 - val_accuracy: 0.7588\n",
            "Epoch 72/150\n",
            "35/35 [==============================] - 0s 3ms/step - loss: 0.3763 - accuracy: 0.8052 - val_loss: 0.4845 - val_accuracy: 0.7588\n",
            "Epoch 73/150\n",
            "35/35 [==============================] - 0s 3ms/step - loss: 0.3760 - accuracy: 0.7994 - val_loss: 0.4842 - val_accuracy: 0.7588\n",
            "Epoch 74/150\n",
            "35/35 [==============================] - 0s 3ms/step - loss: 0.3746 - accuracy: 0.7994 - val_loss: 0.4859 - val_accuracy: 0.7588\n",
            "Epoch 75/150\n",
            "35/35 [==============================] - 0s 3ms/step - loss: 0.3748 - accuracy: 0.8023 - val_loss: 0.4862 - val_accuracy: 0.7588\n",
            "Epoch 76/150\n",
            "35/35 [==============================] - 0s 3ms/step - loss: 0.3725 - accuracy: 0.8052 - val_loss: 0.4862 - val_accuracy: 0.7588\n",
            "Epoch 77/150\n",
            "35/35 [==============================] - 0s 3ms/step - loss: 0.3720 - accuracy: 0.8081 - val_loss: 0.4865 - val_accuracy: 0.7647\n",
            "Epoch 78/150\n",
            "35/35 [==============================] - 0s 3ms/step - loss: 0.3704 - accuracy: 0.8052 - val_loss: 0.4858 - val_accuracy: 0.7588\n",
            "Epoch 79/150\n",
            "35/35 [==============================] - 0s 3ms/step - loss: 0.3703 - accuracy: 0.8140 - val_loss: 0.4849 - val_accuracy: 0.7529\n",
            "Epoch 80/150\n",
            "35/35 [==============================] - 0s 3ms/step - loss: 0.3683 - accuracy: 0.8140 - val_loss: 0.4871 - val_accuracy: 0.7471\n",
            "Epoch 81/150\n",
            "35/35 [==============================] - 0s 3ms/step - loss: 0.3674 - accuracy: 0.8081 - val_loss: 0.4872 - val_accuracy: 0.7588\n",
            "Epoch 82/150\n",
            "35/35 [==============================] - 0s 3ms/step - loss: 0.3668 - accuracy: 0.8110 - val_loss: 0.4877 - val_accuracy: 0.7471\n",
            "Epoch 83/150\n",
            "35/35 [==============================] - 0s 3ms/step - loss: 0.3657 - accuracy: 0.8140 - val_loss: 0.4893 - val_accuracy: 0.7471\n",
            "Epoch 84/150\n",
            "35/35 [==============================] - 0s 3ms/step - loss: 0.3649 - accuracy: 0.8110 - val_loss: 0.4882 - val_accuracy: 0.7471\n",
            "Epoch 85/150\n",
            "35/35 [==============================] - 0s 3ms/step - loss: 0.3637 - accuracy: 0.8140 - val_loss: 0.4893 - val_accuracy: 0.7529\n",
            "Epoch 86/150\n",
            "35/35 [==============================] - 0s 3ms/step - loss: 0.3626 - accuracy: 0.8198 - val_loss: 0.4902 - val_accuracy: 0.7529\n",
            "Epoch 87/150\n",
            "35/35 [==============================] - 0s 3ms/step - loss: 0.3625 - accuracy: 0.8227 - val_loss: 0.4927 - val_accuracy: 0.7529\n",
            "Epoch 88/150\n",
            "35/35 [==============================] - 0s 3ms/step - loss: 0.3601 - accuracy: 0.8198 - val_loss: 0.4928 - val_accuracy: 0.7529\n",
            "Epoch 89/150\n",
            "35/35 [==============================] - 0s 3ms/step - loss: 0.3596 - accuracy: 0.8285 - val_loss: 0.4928 - val_accuracy: 0.7529\n",
            "Epoch 90/150\n",
            "35/35 [==============================] - 0s 4ms/step - loss: 0.3588 - accuracy: 0.8285 - val_loss: 0.4937 - val_accuracy: 0.7529\n",
            "Epoch 91/150\n",
            "35/35 [==============================] - 0s 3ms/step - loss: 0.3563 - accuracy: 0.8285 - val_loss: 0.4930 - val_accuracy: 0.7529\n",
            "Epoch 92/150\n",
            "35/35 [==============================] - 0s 3ms/step - loss: 0.3555 - accuracy: 0.8314 - val_loss: 0.4941 - val_accuracy: 0.7529\n",
            "Epoch 93/150\n",
            "35/35 [==============================] - 0s 3ms/step - loss: 0.3557 - accuracy: 0.8343 - val_loss: 0.4941 - val_accuracy: 0.7529\n",
            "Epoch 94/150\n",
            "35/35 [==============================] - 0s 3ms/step - loss: 0.3537 - accuracy: 0.8314 - val_loss: 0.4960 - val_accuracy: 0.7529\n",
            "Epoch 95/150\n",
            "35/35 [==============================] - 0s 3ms/step - loss: 0.3536 - accuracy: 0.8372 - val_loss: 0.4957 - val_accuracy: 0.7529\n",
            "Epoch 96/150\n",
            "35/35 [==============================] - 0s 3ms/step - loss: 0.3525 - accuracy: 0.8314 - val_loss: 0.4961 - val_accuracy: 0.7529\n",
            "Epoch 97/150\n",
            "35/35 [==============================] - 0s 3ms/step - loss: 0.3518 - accuracy: 0.8314 - val_loss: 0.4942 - val_accuracy: 0.7529\n",
            "Epoch 98/150\n",
            "35/35 [==============================] - 0s 3ms/step - loss: 0.3511 - accuracy: 0.8372 - val_loss: 0.4962 - val_accuracy: 0.7529\n",
            "Epoch 99/150\n",
            "35/35 [==============================] - 0s 3ms/step - loss: 0.3510 - accuracy: 0.8372 - val_loss: 0.4961 - val_accuracy: 0.7529\n",
            "Epoch 100/150\n",
            "35/35 [==============================] - 0s 3ms/step - loss: 0.3502 - accuracy: 0.8343 - val_loss: 0.4977 - val_accuracy: 0.7529\n",
            "Epoch 101/150\n",
            "35/35 [==============================] - 0s 4ms/step - loss: 0.3480 - accuracy: 0.8372 - val_loss: 0.4974 - val_accuracy: 0.7529\n",
            "Epoch 102/150\n",
            "35/35 [==============================] - 0s 3ms/step - loss: 0.3483 - accuracy: 0.8314 - val_loss: 0.4981 - val_accuracy: 0.7529\n",
            "Epoch 103/150\n",
            "35/35 [==============================] - 0s 3ms/step - loss: 0.3468 - accuracy: 0.8372 - val_loss: 0.4975 - val_accuracy: 0.7529\n",
            "Epoch 104/150\n",
            "35/35 [==============================] - 0s 3ms/step - loss: 0.3463 - accuracy: 0.8343 - val_loss: 0.4973 - val_accuracy: 0.7529\n",
            "Epoch 105/150\n",
            "35/35 [==============================] - 0s 3ms/step - loss: 0.3455 - accuracy: 0.8314 - val_loss: 0.4981 - val_accuracy: 0.7529\n",
            "Epoch 106/150\n",
            "35/35 [==============================] - 0s 3ms/step - loss: 0.3465 - accuracy: 0.8285 - val_loss: 0.4990 - val_accuracy: 0.7588\n",
            "Epoch 107/150\n",
            "35/35 [==============================] - 0s 3ms/step - loss: 0.3447 - accuracy: 0.8372 - val_loss: 0.4978 - val_accuracy: 0.7471\n",
            "Epoch 108/150\n",
            "35/35 [==============================] - 0s 3ms/step - loss: 0.3435 - accuracy: 0.8430 - val_loss: 0.4968 - val_accuracy: 0.7529\n",
            "Epoch 109/150\n",
            "35/35 [==============================] - 0s 3ms/step - loss: 0.3422 - accuracy: 0.8314 - val_loss: 0.4971 - val_accuracy: 0.7529\n",
            "Epoch 110/150\n",
            "35/35 [==============================] - 0s 3ms/step - loss: 0.3421 - accuracy: 0.8372 - val_loss: 0.4992 - val_accuracy: 0.7529\n",
            "Epoch 111/150\n",
            "35/35 [==============================] - 0s 3ms/step - loss: 0.3404 - accuracy: 0.8314 - val_loss: 0.4991 - val_accuracy: 0.7529\n",
            "Epoch 112/150\n",
            "35/35 [==============================] - 0s 2ms/step - loss: 0.3402 - accuracy: 0.8343 - val_loss: 0.4985 - val_accuracy: 0.7529\n",
            "Epoch 113/150\n",
            "35/35 [==============================] - 0s 3ms/step - loss: 0.3401 - accuracy: 0.8314 - val_loss: 0.5018 - val_accuracy: 0.7588\n",
            "Epoch 114/150\n",
            "35/35 [==============================] - 0s 3ms/step - loss: 0.3395 - accuracy: 0.8314 - val_loss: 0.5002 - val_accuracy: 0.7588\n",
            "Epoch 115/150\n",
            "35/35 [==============================] - 0s 3ms/step - loss: 0.3383 - accuracy: 0.8314 - val_loss: 0.4990 - val_accuracy: 0.7529\n",
            "Epoch 116/150\n",
            "35/35 [==============================] - 0s 3ms/step - loss: 0.3385 - accuracy: 0.8314 - val_loss: 0.5016 - val_accuracy: 0.7471\n",
            "Epoch 117/150\n",
            "35/35 [==============================] - 0s 3ms/step - loss: 0.3379 - accuracy: 0.8343 - val_loss: 0.4998 - val_accuracy: 0.7647\n",
            "Epoch 118/150\n",
            "35/35 [==============================] - 0s 3ms/step - loss: 0.3383 - accuracy: 0.8285 - val_loss: 0.4997 - val_accuracy: 0.7471\n",
            "Epoch 119/150\n",
            "35/35 [==============================] - 0s 3ms/step - loss: 0.3357 - accuracy: 0.8314 - val_loss: 0.5020 - val_accuracy: 0.7588\n",
            "Epoch 120/150\n",
            "35/35 [==============================] - 0s 3ms/step - loss: 0.3356 - accuracy: 0.8372 - val_loss: 0.5004 - val_accuracy: 0.7529\n",
            "Epoch 121/150\n",
            "35/35 [==============================] - 0s 3ms/step - loss: 0.3342 - accuracy: 0.8372 - val_loss: 0.5011 - val_accuracy: 0.7706\n",
            "Epoch 122/150\n",
            "35/35 [==============================] - 0s 3ms/step - loss: 0.3341 - accuracy: 0.8343 - val_loss: 0.5015 - val_accuracy: 0.7706\n",
            "Epoch 123/150\n",
            "35/35 [==============================] - 0s 3ms/step - loss: 0.3349 - accuracy: 0.8401 - val_loss: 0.5017 - val_accuracy: 0.7588\n",
            "Epoch 124/150\n",
            "35/35 [==============================] - 0s 3ms/step - loss: 0.3324 - accuracy: 0.8401 - val_loss: 0.5037 - val_accuracy: 0.7647\n",
            "Epoch 125/150\n",
            "35/35 [==============================] - 0s 3ms/step - loss: 0.3330 - accuracy: 0.8401 - val_loss: 0.5036 - val_accuracy: 0.7706\n",
            "Epoch 126/150\n",
            "35/35 [==============================] - 0s 3ms/step - loss: 0.3318 - accuracy: 0.8372 - val_loss: 0.5038 - val_accuracy: 0.7706\n",
            "Epoch 127/150\n",
            "35/35 [==============================] - 0s 3ms/step - loss: 0.3313 - accuracy: 0.8430 - val_loss: 0.5020 - val_accuracy: 0.7588\n",
            "Epoch 128/150\n",
            "35/35 [==============================] - 0s 3ms/step - loss: 0.3318 - accuracy: 0.8401 - val_loss: 0.5045 - val_accuracy: 0.7588\n",
            "Epoch 129/150\n",
            "35/35 [==============================] - 0s 3ms/step - loss: 0.3311 - accuracy: 0.8343 - val_loss: 0.5034 - val_accuracy: 0.7588\n",
            "Epoch 130/150\n",
            "35/35 [==============================] - 0s 3ms/step - loss: 0.3308 - accuracy: 0.8314 - val_loss: 0.5039 - val_accuracy: 0.7588\n",
            "Epoch 131/150\n",
            "35/35 [==============================] - 0s 3ms/step - loss: 0.3299 - accuracy: 0.8372 - val_loss: 0.5049 - val_accuracy: 0.7529\n",
            "Epoch 132/150\n",
            "35/35 [==============================] - 0s 3ms/step - loss: 0.3293 - accuracy: 0.8372 - val_loss: 0.5056 - val_accuracy: 0.7647\n",
            "Epoch 133/150\n",
            "35/35 [==============================] - 0s 3ms/step - loss: 0.3278 - accuracy: 0.8401 - val_loss: 0.5056 - val_accuracy: 0.7647\n",
            "Epoch 134/150\n",
            "35/35 [==============================] - 0s 3ms/step - loss: 0.3274 - accuracy: 0.8401 - val_loss: 0.5051 - val_accuracy: 0.7647\n",
            "Epoch 135/150\n",
            "35/35 [==============================] - 0s 3ms/step - loss: 0.3286 - accuracy: 0.8401 - val_loss: 0.5046 - val_accuracy: 0.7588\n",
            "Epoch 136/150\n",
            "35/35 [==============================] - 0s 3ms/step - loss: 0.3264 - accuracy: 0.8401 - val_loss: 0.5062 - val_accuracy: 0.7647\n",
            "Epoch 137/150\n",
            "35/35 [==============================] - 0s 3ms/step - loss: 0.3260 - accuracy: 0.8488 - val_loss: 0.5057 - val_accuracy: 0.7529\n",
            "Epoch 138/150\n",
            "35/35 [==============================] - 0s 4ms/step - loss: 0.3254 - accuracy: 0.8401 - val_loss: 0.5043 - val_accuracy: 0.7706\n",
            "Epoch 139/150\n",
            "35/35 [==============================] - 0s 3ms/step - loss: 0.3250 - accuracy: 0.8430 - val_loss: 0.5043 - val_accuracy: 0.7647\n",
            "Epoch 140/150\n",
            "35/35 [==============================] - 0s 3ms/step - loss: 0.3252 - accuracy: 0.8401 - val_loss: 0.5072 - val_accuracy: 0.7588\n",
            "Epoch 141/150\n",
            "35/35 [==============================] - 0s 3ms/step - loss: 0.3240 - accuracy: 0.8459 - val_loss: 0.5043 - val_accuracy: 0.7588\n",
            "Epoch 142/150\n",
            "35/35 [==============================] - 0s 3ms/step - loss: 0.3232 - accuracy: 0.8459 - val_loss: 0.5064 - val_accuracy: 0.7529\n",
            "Epoch 143/150\n",
            "35/35 [==============================] - 0s 3ms/step - loss: 0.3234 - accuracy: 0.8459 - val_loss: 0.5100 - val_accuracy: 0.7647\n",
            "Epoch 144/150\n",
            "35/35 [==============================] - 0s 3ms/step - loss: 0.3222 - accuracy: 0.8459 - val_loss: 0.5095 - val_accuracy: 0.7706\n",
            "Epoch 145/150\n",
            "35/35 [==============================] - 0s 3ms/step - loss: 0.3209 - accuracy: 0.8430 - val_loss: 0.5087 - val_accuracy: 0.7706\n",
            "Epoch 146/150\n",
            "35/35 [==============================] - 0s 3ms/step - loss: 0.3208 - accuracy: 0.8488 - val_loss: 0.5073 - val_accuracy: 0.7588\n",
            "Epoch 147/150\n",
            "35/35 [==============================] - 0s 3ms/step - loss: 0.3215 - accuracy: 0.8547 - val_loss: 0.5101 - val_accuracy: 0.7706\n",
            "Epoch 148/150\n",
            "35/35 [==============================] - 0s 3ms/step - loss: 0.3202 - accuracy: 0.8488 - val_loss: 0.5086 - val_accuracy: 0.7588\n",
            "Epoch 149/150\n",
            "35/35 [==============================] - 0s 3ms/step - loss: 0.3198 - accuracy: 0.8488 - val_loss: 0.5096 - val_accuracy: 0.7824\n",
            "Epoch 150/150\n",
            "35/35 [==============================] - 0s 3ms/step - loss: 0.3196 - accuracy: 0.8459 - val_loss: 0.5101 - val_accuracy: 0.7647\n"
          ]
        }
      ]
    },
    {
      "cell_type": "markdown",
      "source": [
        "\n",
        "5. Evaluate Model"
      ],
      "metadata": {
        "id": "yzROlM1Hz8k8"
      }
    },
    {
      "cell_type": "code",
      "source": [
        "\n",
        "\n",
        "# evaluate the keras model\n",
        "_, accuracy = model.evaluate(X_train, y_train)\n",
        "print('Accuracy: %.2f' % (accuracy*100))\n",
        "\n"
      ],
      "metadata": {
        "colab": {
          "base_uri": "https://localhost:8080/"
        },
        "id": "1-GRcATKz9jf",
        "outputId": "fcf7bac4-9a49-48dd-b4c1-6706663e6382"
      },
      "execution_count": null,
      "outputs": [
        {
          "output_type": "stream",
          "name": "stdout",
          "text": [
            "17/17 [==============================] - 0s 3ms/step - loss: 0.3800 - accuracy: 0.8230\n",
            "Accuracy: 82.30\n"
          ]
        }
      ]
    },
    {
      "cell_type": "markdown",
      "source": [
        "\n",
        "6. Predictions"
      ],
      "metadata": {
        "id": "MI0wGUZR0Dgb"
      }
    },
    {
      "cell_type": "code",
      "source": [
        "\n",
        "\n",
        "# make class predictions with the model\n",
        "predictions = np.argmax(model.predict(X_test), axis=-1)\n",
        "# summarize the first 5 cases\n",
        "for i in range(10):\n",
        "    print('%s => %d (expected %d)' % (X_test[i].tolist(), predictions[i], y[i]))\n",
        "\n"
      ],
      "metadata": {
        "colab": {
          "base_uri": "https://localhost:8080/"
        },
        "id": "Qvb0jdI70EPk",
        "outputId": "06863dad-67c8-4c10-ac2c-b3b7fe75baf5"
      },
      "execution_count": null,
      "outputs": [
        {
          "output_type": "stream",
          "name": "stdout",
          "text": [
            "[0.6399472601593618, -0.7165334717264664, -0.5741277459136239, 0.7818138030884967, 0.956859653030945, 0.2547804694892943, -0.1264714020604746, 0.8303811324799336] => 0 (expected 1)\n",
            "[-0.5479185907225473, -0.2783734371474431, 0.30473400231574344, 0.7190857419965655, -0.6928905722954664, 0.47054318659717476, -0.9781448690748636, -1.0415494364835027] => 0 (expected 0)\n",
            "[-0.5479185907225473, -0.4035620184557355, -0.2639412465385531, -1.2882122129452327, -0.6928905722954664, -0.1513611156549505, -0.9479436823013037, -1.0415494364835027] => 0 (expected 1)\n",
            "[1.233880185600316, -0.4348591637828086, 0.5632227517949692, -1.2882122129452327, -0.6928905722954664, -0.9382604368719248, 1.1600991544931767, 0.06459135426761878] => 0 (expected 0)\n",
            "[0.9369137228798391, 0.4727580507023112, 1.0802002507534205, -1.2882122129452327, -0.6928905722954664, -0.26558843647676966, -0.7908975110787921, 1.4259954044228451] => 0 (expected 1)\n",
            "[0.6399472601593618, -0.560047745091101, 0.149640752628208, 0.7190857419965655, 0.956859653030945, 0.7243816773123278, -0.4466039818602094, 1.8514341700963535] => 0 (expected 0)\n",
            "[-0.8448850534430246, -1.56155639555744, -1.0911052448720753, -0.15910711329047122, -0.03299048216490182, -1.4713212673737466, -0.4496241005375654, -0.956461683348801] => 0 (expected 1)\n",
            "[-1.141851516163502, -0.12188771051207764, -3.572597239872642, -1.2882122129452327, -0.6928905722954664, 0.22939662041777864, 1.389628173972232, 0.9154688856146352] => 1 (expected 0)\n",
            "[0.04601433471840724, 1.036106666589627, 0.149640752628208, 0.5309015587207719, 0.4011543139736275, -0.08790149297616225, -0.40432232037722554, 0.31985461367172374] => 1 (expected 1)\n",
            "[0.3429807974388845, 0.8170266493001153, 0.45982725200327884, -1.2882122129452327, -0.6928905722954664, 0.2167046958820217, -0.7667365616599442, 2.70231170144337] => 1 (expected 1)\n"
          ]
        }
      ]
    },
    {
      "cell_type": "code",
      "source": [
        "y_pred = model.predict(X_test)\n",
        "\n",
        "y_pred = np.argmax(y_pred, axis=1) \n",
        "\n",
        "accuracy_score(y_test, y_pred)\n"
      ],
      "metadata": {
        "colab": {
          "base_uri": "https://localhost:8080/"
        },
        "id": "8xw4UhXe0SDL",
        "outputId": "1d767856-7bc2-4d95-c09e-e664d4500d56"
      },
      "execution_count": null,
      "outputs": [
        {
          "output_type": "execute_result",
          "data": {
            "text/plain": [
              "0.7047244094488189"
            ]
          },
          "metadata": {},
          "execution_count": 19
        }
      ]
    },
    {
      "cell_type": "code",
      "source": [
        "print(model.metrics_names)\n"
      ],
      "metadata": {
        "colab": {
          "base_uri": "https://localhost:8080/"
        },
        "id": "7PnFUw6g0Ye6",
        "outputId": "fb19a861-204d-4249-a27f-13454ca01dfb"
      },
      "execution_count": null,
      "outputs": [
        {
          "output_type": "stream",
          "name": "stdout",
          "text": [
            "['loss', 'accuracy']\n"
          ]
        }
      ]
    },
    {
      "cell_type": "markdown",
      "source": [
        "\n",
        "\n",
        "One of the default callbacks that is registered when training all deep learning models is the History callback. It records training metrics for each epoch. This includes the loss and the accuracy (for classification problems) as well as the loss and accuracy for the validation dataset, if one is set.\n",
        "\n",
        "The history object is returned from calls to the fit() function used to train the model. Metrics are stored in a dictionary in the history member of the object returned"
      ],
      "metadata": {
        "id": "nlfV_Hwf0aV4"
      }
    },
    {
      "cell_type": "code",
      "source": [
        "\n",
        "\n",
        "print(history.history.keys())\n",
        "\n"
      ],
      "metadata": {
        "colab": {
          "base_uri": "https://localhost:8080/"
        },
        "id": "AQy2QdL30d4S",
        "outputId": "3c57c1bc-599f-4434-832f-3c466360cb0a"
      },
      "execution_count": null,
      "outputs": [
        {
          "output_type": "stream",
          "name": "stdout",
          "text": [
            "dict_keys(['loss', 'accuracy', 'val_loss', 'val_accuracy'])\n"
          ]
        }
      ]
    },
    {
      "cell_type": "markdown",
      "source": [
        "\n",
        "7. Plot against loss and accuracy\n",
        "\n",
        "The plots can provide an indication of useful things about the training of the model, such as:\n",
        "\n",
        "    It’s speed of convergence over epochs (slope).\n",
        "    Whether the model may have already converged (plateau of the line).\n",
        "    Whether the mode may be over-learning the training data (inflection for validation line).\n",
        "\n"
      ],
      "metadata": {
        "id": "AzKa3hbU0l0_"
      }
    },
    {
      "cell_type": "code",
      "source": [
        "\n",
        "\n",
        "# summarize history for loss\n",
        "plt.plot(history.history['loss'])\n",
        "plt.plot(history.history['val_loss'])\n",
        "plt.title('model loss')\n",
        "plt.ylabel('loss')\n",
        "plt.xlabel('epoch')\n",
        "plt.legend(['train', 'test'], loc='upper left')\n",
        "plt.show()\n",
        "\n"
      ],
      "metadata": {
        "colab": {
          "base_uri": "https://localhost:8080/",
          "height": 295
        },
        "id": "dpiTwgqr0mgg",
        "outputId": "b19d2589-b5e8-4400-9e20-9586d3515262"
      },
      "execution_count": null,
      "outputs": [
        {
          "output_type": "display_data",
          "data": {
            "image/png": "[encoded data removed]",
            "text/plain": [
              "<Figure size 432x288 with 1 Axes>"
            ]
          },
          "metadata": {
            "needs_background": "light"
          }
        }
      ]
    },
    {
      "cell_type": "code",
      "source": [
        "# summarize history for accuracy\n",
        "plt.plot(history.history['accuracy'])\n",
        "plt.plot(history.history['val_accuracy'])\n",
        "plt.title('model accuracy')\n",
        "plt.ylabel('accuracy')\n",
        "plt.xlabel('epoch')\n",
        "plt.legend(['train', 'test'], loc='upper left')\n",
        "plt.show()\n"
      ],
      "metadata": {
        "colab": {
          "base_uri": "https://localhost:8080/",
          "height": 295
        },
        "id": "vXth5ZJe0tsY",
        "outputId": "0396fb7e-46f7-4b0d-f22d-33a302a699b8"
      },
      "execution_count": null,
      "outputs": [
        {
          "output_type": "display_data",
          "data": {
            "image/png": "[encoded data removed]",
            "text/plain": [
              "<Figure size 432x288 with 1 Axes>"
            ]
          },
          "metadata": {
            "needs_background": "light"
          }
        }
      ]
    }
  ]
}